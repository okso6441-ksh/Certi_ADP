{
 "cells": [
  {
   "cell_type": "markdown",
   "metadata": {},
   "source": [
    "print?\n",
    "np.*load*?\n",
    "dir(np); help(np.log1p)"
   ]
  },
  {
   "cell_type": "markdown",
   "metadata": {},
   "source": [
    "# 1. 데이터 불러오기 "
   ]
  },
  {
   "cell_type": "code",
   "execution_count": 1,
   "metadata": {},
   "outputs": [],
   "source": [
    "import numpy as np\n",
    "import pandas as pd\n",
    "\n",
    "import matplotlib.pyplot as plt\n",
    "import seaborn as sns\n",
    "\n",
    "import warnings\n",
    "warnings.filterwarnings('ignore')\n",
    "\n",
    "%matplotlib inline"
   ]
  },
  {
   "cell_type": "markdown",
   "metadata": {},
   "source": [
    "pd.options.display.max_rows = 10"
   ]
  },
  {
   "cell_type": "code",
   "execution_count": 2,
   "metadata": {},
   "outputs": [],
   "source": [
    "# seed\n",
    "np.random.seed(601)\n",
    "import random\n",
    "random.seed(12345)"
   ]
  },
  {
   "cell_type": "code",
   "execution_count": 3,
   "metadata": {},
   "outputs": [
    {
     "data": {
      "text/plain": [
       "'C:\\\\Users\\\\okso6\\\\temp\\\\ADP'"
      ]
     },
     "execution_count": 3,
     "metadata": {},
     "output_type": "execute_result"
    }
   ],
   "source": [
    "# 경로 확인\n",
    "import os\n",
    "os.getcwd() "
   ]
  },
  {
   "cell_type": "markdown",
   "metadata": {},
   "source": [
    "## 데이터 불러오기\n",
    "*  pd.read_csv('titanic_train.csv') : (Default) sep=','\n",
    "*  pd.read_table('titanic_train.csv') : sep='\\t'\n",
    "*  pd.read_fwf('titanic_train.csv') : Fixed Width(고정길이) 기반 컬럼 포맷 "
   ]
  },
  {
   "cell_type": "code",
   "execution_count": 4,
   "metadata": {},
   "outputs": [],
   "source": [
    "# txt = pd.read_csv('고객정보.txt', sep = \"\\t\", , engine='python', encoding = \"cp949\")\n",
    "train = pd.read_csv('titanic.csv', encoding='cp949')\n",
    "# data = pd.concat((train, test)) # 병합 "
   ]
  },
  {
   "cell_type": "markdown",
   "metadata": {},
   "source": [
    "### 기본 데이터 확인 "
   ]
  },
  {
   "cell_type": "code",
   "execution_count": null,
   "metadata": {},
   "outputs": [],
   "source": [
    "print(train.shape)\n",
    "print(train.columns)\n",
    "train.head(2)"
   ]
  },
  {
   "cell_type": "code",
   "execution_count": null,
   "metadata": {},
   "outputs": [],
   "source": [
    "train.describe()# include=\"all\""
   ]
  },
  {
   "cell_type": "code",
   "execution_count": null,
   "metadata": {},
   "outputs": [],
   "source": [
    "# 타입 \n",
    "train.info()\n",
    "train.dtypes.value_counts()# normalize=False 개수, True 상대 비율\n",
    "\n",
    "# 특정 타입 \n",
    "col_type = train.dtypes[train.dtypes != 'object'].index\n",
    "train[col_type].columns\n",
    "\n",
    "# 중복\n",
    "train.duplicated().sum(); train.drop_duplicates().shape\n",
    "\n",
    "# 비율\n",
    "train.survived.value_counts(normalize=True)"
   ]
  },
  {
   "cell_type": "markdown",
   "metadata": {},
   "source": [
    "# 2. EDA & 전처리"
   ]
  },
  {
   "cell_type": "markdown",
   "metadata": {},
   "source": [
    "## null 처리 "
   ]
  },
  {
   "cell_type": "code",
   "execution_count": null,
   "metadata": {},
   "outputs": [],
   "source": [
    "display(train.isna().sum()) #  null 체크 "
   ]
  },
  {
   "cell_type": "code",
   "execution_count": null,
   "metadata": {},
   "outputs": [],
   "source": [
    "import missingno\n",
    "missingno.matrix(train, figsize = (5,3))"
   ]
  },
  {
   "cell_type": "code",
   "execution_count": 10,
   "metadata": {},
   "outputs": [
    {
     "data": {
      "text/plain": [
       "0"
      ]
     },
     "metadata": {},
     "output_type": "display_data"
    }
   ],
   "source": [
    "train['age'].fillna(train['age'].mean(),inplace=True)\n",
    "train['cabin'].fillna('N',inplace=True)\n",
    "train['fare'].fillna(0,inplace=True)\n",
    "train['embarked'].fillna('N',inplace=True)\n",
    "display(train.isna().sum().sum()) #  null 체크 "
   ]
  },
  {
   "cell_type": "markdown",
   "metadata": {},
   "source": [
    "## outlier "
   ]
  },
  {
   "cell_type": "code",
   "execution_count": null,
   "metadata": {},
   "outputs": [],
   "source": [
    "for col in ['sibsp', 'parch']:\n",
    "    plt.figure(figsize=(1,1))\n",
    "    sns.boxplot(data=train[col])\n",
    "    plt.title(col)\n",
    "    plt.show()"
   ]
  },
  {
   "cell_type": "code",
   "execution_count": null,
   "metadata": {},
   "outputs": [],
   "source": [
    "def get_outlier(df=None, column=None, weight=1.5):\n",
    "    fraud = df[column]\n",
    "    quantile_25 = np.percentile(fraud.values, 25)\n",
    "    quantile_75 = np.percentile(fraud.values, 75)\n",
    "\n",
    "    iqr = quantile_75 - quantile_25\n",
    "    iqr_weight = iqr * weight\n",
    "    lowest_val = quantile_25 - iqr_weight\n",
    "    highest_val = quantile_75 + iqr_weight\n",
    "    \n",
    "    outlier_index = fraud[(fraud < lowest_val) | (fraud > highest_val)].index\n",
    "    \n",
    "    return outlier_index\n",
    "\n",
    "outlier_index = get_outlier(df=train, column='age', weight=1.5)\n",
    "train_drop = train.drop(outlier_index, axis=0) # 행 \n",
    "train.shape, train_drop.shape"
   ]
  },
  {
   "cell_type": "markdown",
   "metadata": {},
   "source": [
    "## 전처리 "
   ]
  },
  {
   "cell_type": "code",
   "execution_count": null,
   "metadata": {},
   "outputs": [],
   "source": [
    "## 정렬 \n",
    "train.sort_values(by='age', ascending=True,inplace=False)\n",
    "\n",
    "## group by \n",
    "agg_format={'age':['max','min'], 'fare':'mean'}\n",
    "train.groupby('pclass').agg(agg_format)\n",
    "\n",
    "## index\n",
    "train_idx = train.reset_index(drop=True)#, inplace=False)\n",
    "# 'ValueError: cannot reindex from a duplicate axis` "
   ]
  },
  {
   "cell_type": "markdown",
   "metadata": {},
   "source": [
    "## numpy"
   ]
  },
  {
   "cell_type": "code",
   "execution_count": null,
   "metadata": {},
   "outputs": [],
   "source": [
    "np.where(1==1, 1, 0) # decode \n",
    "np.percentile(train.fare, 10) # 분위수: 하위 10% 90, 상위 10%\n",
    "np.clip(np.array([1,2,3,4,5]), 2, 4) # min ~ max"
   ]
  },
  {
   "cell_type": "markdown",
   "metadata": {},
   "source": [
    "### 문자열"
   ]
  },
  {
   "cell_type": "code",
   "execution_count": null,
   "metadata": {},
   "outputs": [],
   "source": [
    "# 정규식 \n",
    "train['Initial'] = train.name.str.extract('([A-Za-z]+)\\.') # 추출 \n",
    "train['name'].str[:2] # 앞에 2자, -1: 뒤에 1자  \n",
    "train['name'].str.split(\".\")\n",
    "train[train['name'].str.startswith(\"Zi\")] # 시작글자 인식 endswith\n",
    "train[train['name'].str.contains(\"Zi\")] # 포함\n",
    "train['name'].str.find(\".\") # 위치, 없으면 -1 rfind \n",
    "train['name'].str.findall('([A-Za-z]+)\\.') # 정규식으로 찾은 모든 값 \n",
    "train['name'].str.replace(\" \", \"_\")\n",
    "train['name'].str.pad(width=20, side='left', fillchar='0')\n",
    "train['name'].str.strip()# 앞 뒤 공백 제거 \n",
    "train['name'].str.lower()# upper swapcase\n",
    "'123'.isdigit(), '123dd'.isdigit(), 'ddd'.isalpha(), '123dd'.isalpha()\n",
    "\n",
    "train.cabin = train.cabin.str[:1]"
   ]
  },
  {
   "cell_type": "code",
   "execution_count": null,
   "metadata": {},
   "outputs": [],
   "source": [
    "import math             \n",
    "math.ceil(0.5) # 올림  \n",
    "math.floor(0.5) # 내림\n",
    "\n",
    "from statistics import mean\n",
    "a=[5,2,3,2]\n",
    "avg=mean(a)"
   ]
  },
  {
   "cell_type": "code",
   "execution_count": null,
   "metadata": {},
   "outputs": [],
   "source": [
    "train['Initial'].replace(['Capt', 'Col', 'Countess', 'Don', 'Dona' , 'Dr', 'Jonkheer', 'Lady', 'Major', 'Master',  'Miss'  ,'Mlle', 'Mme', 'Mr', 'Mrs', 'Ms', 'Rev', 'Sir'], ['Sacrificed', 'Respected', 'Nobles', 'Mr', 'Mrs', 'Respected', 'Mr', 'Nobles', 'Respected', 'Kids', 'Miss', 'Nobles', 'Nobles', 'Mr', 'Mrs', 'Nobles', 'Sacrificed', 'Nobles'],inplace=True)\n",
    "train['Initial'].replace(['Kids', 'Miss', 'Mr', 'Mrs', 'Nobles', 'Respected', 'Sacrificed'], [4, 4, 2, 5, 6, 3, 1], inplace=True)"
   ]
  },
  {
   "cell_type": "code",
   "execution_count": null,
   "metadata": {},
   "outputs": [],
   "source": [
    "# age 구간화\n",
    "\"\"\"\n",
    "train['Age_cat'] = train['Age'].apply(lambda x : 'Child' if x<=15 \n",
    "                                      else ('Adult' if x <= 60 \n",
    "                                      else 'Elderly'))\n",
    "                                      \n",
    "train['Age_Range'] = pd.qcut(train['age'], 10)                                      \n",
    "\"\"\"\n",
    "train['age'] = (train.age*0.1).astype(int)\n",
    "np.sort(train['age'].unique())"
   ]
  },
  {
   "cell_type": "code",
   "execution_count": null,
   "metadata": {},
   "outputs": [],
   "source": [
    "# drop\n",
    "train_drop = train.drop(['name','ticket'],axis=1) # 열 \n",
    "train.shape, train_drop.shape"
   ]
  },
  {
   "cell_type": "markdown",
   "metadata": {},
   "source": [
    "## 왜도 첨도 "
   ]
  },
  {
   "cell_type": "code",
   "execution_count": null,
   "metadata": {},
   "outputs": [],
   "source": [
    "# 왜도 0 대칭 (-2~2) \n",
    "# -2 > 오른쪽으로 치우친(꼬리 왼쪽) Negative Skew  \n",
    "# +2 < 왼쪽으로 치우친(꼬리 오른쪽) Positive Skew  \n",
    "from scipy.stats import skew\n",
    "\n",
    "skew_features = train[col_type].apply(lambda x : skew(x))\n",
    "\n",
    "# skew 정도가 2 이상인 컬럼들만 추출. \n",
    "skew_features_top = skew_features[skew_features > 2]\n",
    "print(skew_features_top.sort_values(ascending=False))\n",
    "\n",
    "# 왜곡도가 1인 피처들은 로그 변환 적용하고 다시 하이퍼 파라미터 튜닝 후 재 학습/예측/평가\n",
    "train[skew_features_top.index] = np.log1p(train[skew_features_top.index]) # expm1"
   ]
  },
  {
   "cell_type": "code",
   "execution_count": null,
   "metadata": {},
   "outputs": [],
   "source": [
    "# Fisher=T         정규분포:0 0 > 뾰족 0 < 완만\n",
    "# Fisher=F Pearson 정규분포:3 3 > 뾰족 3 < 완만\n",
    "# 뾰족 Leptokurtic 분산도 작음(outlier 많음)\n",
    "# 완만 Platykurtic 분산도 큼(집단 이질, 정규분포 확인)\n",
    "from scipy.stats import kurtosis\n",
    "kurt_features = train[col_type].apply(lambda x : kurtosis(x))\n",
    "print(kurt_features.sort_values(ascending=False))"
   ]
  },
  {
   "cell_type": "markdown",
   "metadata": {},
   "source": [
    "## 스케일링 & 정규화 "
   ]
  },
  {
   "cell_type": "code",
   "execution_count": null,
   "metadata": {},
   "outputs": [],
   "source": [
    "from sklearn.preprocessing import StandardScaler, MinMaxScaler, PolynomialFeatures\n",
    "\n",
    "scaler = StandardScaler()\n",
    "#scaler = MinMaxScaler()\n",
    "\n",
    "scaled_data = scaler.fit_transform(train[col_type])\n",
    "#scaled_data = PolynomialFeatures(degree=2, include_bias=False).fit_transform(train)\n",
    "scaled_df = pd.DataFrame(data=scaled_data, columns=col_type)\n",
    "scaled_df.head(2) # train[col_type] = scaled_df[col_type]"
   ]
  },
  {
   "cell_type": "markdown",
   "metadata": {},
   "source": [
    "## 시각화"
   ]
  },
  {
   "cell_type": "code",
   "execution_count": 23,
   "metadata": {},
   "outputs": [
    {
     "data": {
      "text/plain": [
       "<AxesSubplot:xlabel='survived', ylabel='age'>"
      ]
     },
     "execution_count": 23,
     "metadata": {},
     "output_type": "execute_result"
    },
    {
     "data": {
      "image/png": "[encoded data removed]",
      "text/plain": [
       "<Figure size 360x360 with 9 Axes>"
      ]
     },
     "metadata": {
      "needs_background": "light"
     },
     "output_type": "display_data"
    }
   ],
   "source": [
    "fig, ax = plt.subplots(3,3, figsize=(5,5))\n",
    "\n",
    "sns.distplot(train['pclass'], ax=ax[0,0], kde=True, rug=True)\n",
    "sns.kdeplot(y='pclass', data=train, shade=True, ax=ax[0,1])\n",
    "sns.countplot(y='pclass', hue='survived', data=train, ax=ax[0,2])\n",
    "train['survived'].value_counts().plot.pie(explode=[0, 0.1], autopct='%1.1f%%', ax=ax[1,0], shadow=True)\n",
    "train['survived'].plot.hist(ax=ax[1,1])\n",
    "train.plot.scatter('age', 'fare', c=\"darkorange\", ax=ax[2,0])\n",
    "sns.swarmplot(x=train['survived'], y=train['age'], ax=ax[2,1])"
   ]
  },
  {
   "cell_type": "code",
   "execution_count": 24,
   "metadata": {},
   "outputs": [
    {
     "data": {
      "image/png": "[encoded data removed]",
      "text/plain": [
       "<Figure size 144x144 with 1 Axes>"
      ]
     },
     "metadata": {
      "needs_background": "light"
     },
     "output_type": "display_data"
    }
   ],
   "source": [
    "snsf = sns.factorplot(x='pclass', y='age', hue='survived', data=train, kind='bar')\n",
    "snsf.fig.set_size_inches(2,2)"
   ]
  },
  {
   "cell_type": "code",
   "execution_count": 25,
   "metadata": {},
   "outputs": [
    {
     "data": {
      "image/png": "[encoded data removed]",
      "text/plain": [
       "<Figure size 576x576 with 6 Axes>"
      ]
     },
     "metadata": {
      "needs_background": "light"
     },
     "output_type": "display_data"
    }
   ],
   "source": [
    "plt.figure(figsize=(8, 8))\n",
    "for i, col in enumerate(list(col_type)):\n",
    "    plt.subplot(7, 4, i + 1)\n",
    "    plt.hist(train[col])\n",
    "    plt.title(col)"
   ]
  },
  {
   "cell_type": "code",
   "execution_count": 26,
   "metadata": {},
   "outputs": [
    {
     "data": {
      "image/png": "[encoded data removed]",
      "text/plain": [
       "<Figure size 576x216 with 2 Axes>"
      ]
     },
     "metadata": {
      "needs_background": "light"
     },
     "output_type": "display_data"
    }
   ],
   "source": [
    "f, ax = plt.subplots(1,2,figsize=(8,3))\n",
    "sns.violinplot(\"pclass\", \"age\", hue=\"survived\", data=train, split=True, ax=ax[0])\n",
    "ax[0].set_title('Pclass and Age vs Survived')\n",
    "ax[0].set_yticks(range(0, 20, 10))\n",
    "sns.violinplot(\"sex\",\"age\", hue=\"survived\", data=train, split=True, ax=ax[1])\n",
    "ax[1].set_title('Sex and Age vs Survived')\n",
    "ax[1].set_yticks(range(0, 20, 10))\n",
    "plt.show()"
   ]
  },
  {
   "cell_type": "code",
   "execution_count": 27,
   "metadata": {},
   "outputs": [
    {
     "data": {
      "image/png": "[encoded data removed]",
      "text/plain": [
       "<Figure size 864x288 with 6 Axes>"
      ]
     },
     "metadata": {
      "needs_background": "light"
     },
     "output_type": "display_data"
    }
   ],
   "source": [
    "# 2개의 행과 4개의 열을 가진 subplots를 이용. axs는 4x2개의 ax를 가짐.\n",
    "fig, axs = plt.subplots(figsize=(12,4) , ncols=3 , nrows=2)\n",
    "lm_features = ['pclass','age','sibsp','parch','fare']\n",
    "for i , feature in enumerate(lm_features):\n",
    "    row = int(i/3)\n",
    "    col = i%3\n",
    "    # 시본의 regplot을 이용해 산점도와 선형 회귀 직선을 함께 표현\n",
    "    sns.regplot(x=feature , y='survived',data=train , ax=axs[row][col])"
   ]
  },
  {
   "cell_type": "code",
   "execution_count": null,
   "metadata": {},
   "outputs": [],
   "source": [
    "# 공분산 cov = 0 선형관계 X; 단위의 크기에 영향 => corr\n",
    "# 상관관계 # 숫자형만 가능! \n",
    "plt.figure(figsize=(4, 4))\n",
    "corr = train.corr() # method=pearson/kendall/spearman(rank)\n",
    "sns.heatmap(corr, cmap='RdBu', annot=True, fmt='.1g')"
   ]
  },
  {
   "cell_type": "markdown",
   "metadata": {},
   "source": [
    "# 차원축소\n",
    "## PCA\n",
    "* 입력 데이터의 변동성이 가장 큰 축을 구하고\n",
    "* 그 축에 직각인 축을 반복적으로 축소하려는 차원 개수만큼 구해서 \n",
    "* 입력 데이터를 새로운 차원에 투영\n",
    "\n",
    "\n",
    "* 입력 데이터의 공분산 행렬을 기반으로 고유벡터를 생성하고\n",
    "* 고유벡터에 데이터를 선현변환하는 방식"
   ]
  },
  {
   "cell_type": "code",
   "execution_count": null,
   "metadata": {},
   "outputs": [],
   "source": [
    "from sklearn.decomposition import PCA # 숫자, not null\n",
    "\n",
    "pca = PCA(n_components=2)\n",
    "\n",
    "pca.fit(train[col_type])\n",
    "pca_data = pca.transform(train[col_type])\n",
    "print(pca_data.shape)\n",
    "\n",
    "# 각 PCA Component별 변동성 비율\n",
    "print(pca.explained_variance_ratio_) # explained_variance_"
   ]
  },
  {
   "cell_type": "markdown",
   "metadata": {},
   "source": [
    "## LDA(Linear Discriminant Analysis)\n",
    "* 지도학습의 분류에서 사용하기 쉽도록 개별 클래스를 분별할 수 있는 기준 최대한 유지\n",
    "    * 클래스간 분산과 클래스 내부 분산의 비율 최대화"
   ]
  },
  {
   "cell_type": "code",
   "execution_count": null,
   "metadata": {},
   "outputs": [],
   "source": [
    "from sklearn.discriminant_analysis import LinearDiscriminantAnalysis\n",
    "lda = LinearDiscriminantAnalysis()\n",
    "# col_type에 survived 제거 \n",
    "lda.fit(train[['pclass','age','sibsp','parch','fare']], train.survived)\n",
    "lda_data = lda.transform(train[['pclass','age','sibsp','parch','fare']])\n",
    "print(lda_data.shape)"
   ]
  },
  {
   "cell_type": "markdown",
   "metadata": {},
   "source": [
    "## SVD(Singular Value Decomposition): 특이값 분해 \n",
    "* PCA 가 정방행렬만 가능한 반면 크기가 다른 행렬도 가능 \n",
    "* PCA 가 밀집행렬에만 가능한 반면 SVD는 희소 행렬에도 가능 \n",
    "* 토픽 모델링 기법 LSA(Latent Semantic Analysis)의 기반 알고리즘 \n",
    "* 이미지 압축, 패턴 인식, 신호처리 분야 등 "
   ]
  },
  {
   "cell_type": "code",
   "execution_count": null,
   "metadata": {},
   "outputs": [],
   "source": [
    "from sklearn.decomposition import TruncatedSVD\n",
    "\n",
    "tsvd = TruncatedSVD(n_components=2)\n",
    "tsvd.fit(train[col_type])\n",
    "tsvd_tf = tsvd.transform(train[col_type])"
   ]
  },
  {
   "cell_type": "markdown",
   "metadata": {},
   "source": [
    "## NMF(Non-Negative Matrix Factorization)\n",
    "**모든 원소 값이 양수가 보장되면 사용할 수 있는 근사 행렬 분해**\n",
    "* SVD와 유사\n",
    "* SVD 활용 분야 + 추천 영역(잠재 요소 기반 추천 방식)"
   ]
  },
  {
   "cell_type": "code",
   "execution_count": null,
   "metadata": {},
   "outputs": [],
   "source": [
    "from sklearn.decomposition import NMF\n",
    "\n",
    "nmf = NMF(n_components=2)\n",
    "\n",
    "nmf.fit(train[col_type])\n",
    "nmf_tf = nmf.transform(train[col_type])"
   ]
  },
  {
   "cell_type": "markdown",
   "metadata": {},
   "source": [
    "## 군집"
   ]
  },
  {
   "cell_type": "code",
   "execution_count": null,
   "metadata": {},
   "outputs": [],
   "source": [
    "from sklearn.cluster import KMeans, MeanShift, DBSCAN\n",
    "from sklearn.mixture import GaussianMixture\n",
    "from sklearn.metrics import silhouette_samples, silhouette_score"
   ]
  },
  {
   "cell_type": "code",
   "execution_count": null,
   "metadata": {},
   "outputs": [],
   "source": [
    "kmeans = KMeans(n_clusters=3, init='k-means++', max_iter=300,random_state=0)\n",
    "meanshift= MeanShift(bandwidth=0.9) # kmeans.cluster_centers_\n",
    "gmm = GaussianMixture(n_components=3, random_state=0)\n",
    "dbscan = DBSCAN(eps=0.6, min_samples=8, metric='euclidean')\n",
    "\n",
    "train['cluster'] = kmeans.fit_predict(train[col_type])\n",
    "\n",
    "silhouette_score(train[col_type], train['cluster']) # 0~1(1에 가까울수록 좋음)"
   ]
  },
  {
   "cell_type": "markdown",
   "metadata": {},
   "source": [
    "## 범주형 데이터"
   ]
  },
  {
   "cell_type": "code",
   "execution_count": null,
   "metadata": {},
   "outputs": [],
   "source": [
    "def cat_chk(col):\n",
    "    print(col, train[col].nunique())\n",
    "    #print(train[col].unique())\n",
    "    #print(train[col].value_counts(), '\\n')\n",
    "\n",
    "cols = ['pclass','embarked','cabin']\n",
    "for col in cols:\n",
    "    cat_chk(col)\n",
    "\n",
    "# 범주형 \n",
    "train = pd.get_dummies(train, columns=cols)\n",
    "# from sklearn.preprocessing import LabelEncoder, OneHotEncoder\n",
    "# LabelEncoder().fit_transform() .classes_ .inverse_transform\n",
    "# pd.factorize() > return encoded, class, df['col'].factorize()[0]"
   ]
  },
  {
   "cell_type": "code",
   "execution_count": null,
   "metadata": {},
   "outputs": [],
   "source": [
    "# .loc 값 변경 \n",
    "train.loc[(train['sex'] == 'male'), 'sex'] = 1\n",
    "train.loc[(train['sex'] == 'female'), 'sex'] = 2\n",
    "train.loc[(train['age'] < 1), 'sex'] = 3"
   ]
  },
  {
   "cell_type": "markdown",
   "metadata": {},
   "source": [
    "## datetime"
   ]
  },
  {
   "cell_type": "code",
   "execution_count": null,
   "metadata": {},
   "outputs": [],
   "source": [
    "from datetime import datetime, timedelta\n",
    "now = datetime.now()\n",
    "print('now', now.year, now.month, now.day)\n",
    "delta = datetime(2011,1,7) - datetime(2020,1,1, 15) # 시간차이 \n",
    "print('delta', delta.days, delta.seconds)\n",
    "\n",
    "# str -> datetime\n",
    "stamp = datetime(2011,1,3, 13, 12, 55)\n",
    "str(stamp)\n",
    "stamp.strftime('%Y-%m-%d %H:%M:%S %w') # %w 요일[0 일요일]\n",
    "\n",
    "from dateutil.parser import parse\n",
    "parse('2011-01-01')\n",
    "\n",
    "# dt['col1'] = dt.col1.apply(pd.to_datetime)\n",
    "# df['year'] = df.datetime.apply(lambda x : x.year)"
   ]
  },
  {
   "cell_type": "markdown",
   "metadata": {},
   "source": [
    "# 3. 모델 모델\n",
    "**cross_val_score = KFold/StratifiedKFold + train_test_split + fit/predict/evaluation**"
   ]
  },
  {
   "cell_type": "code",
   "execution_count": null,
   "metadata": {},
   "outputs": [],
   "source": [
    "from sklearn.model_selection import train_test_split, KFold, StratifiedKFold\n",
    "from sklearn.model_selection import cross_val_score, cross_val_predict"
   ]
  },
  {
   "cell_type": "code",
   "execution_count": null,
   "metadata": {},
   "outputs": [],
   "source": [
    "col = list(set(train.columns) - set(['survived','name','ticket']))\n",
    "\n",
    "col_o = train[col].dtypes[train[col].dtypes == 'object']\n",
    "train[col_o.index] = train[col_o.index].astype(float)"
   ]
  },
  {
   "cell_type": "markdown",
   "metadata": {},
   "source": [
    "## 데이터 분리"
   ]
  },
  {
   "cell_type": "code",
   "execution_count": null,
   "metadata": {},
   "outputs": [],
   "source": [
    "X_train, X_test, y_train, y_test = train_test_split(train[col], train.survived\n",
    ", test_size=0.3, random_state=12345, stratify=train.survived)\n",
    "X_train.shape, X_test.shape, y_train.shape, y_test.shape"
   ]
  },
  {
   "cell_type": "code",
   "execution_count": null,
   "metadata": {},
   "outputs": [],
   "source": [
    "kf = KFold(n_splits=5, shuffle=True, random_state=42)\n",
    "skf = StratifiedKFold(n_splits=3, shuffle=True, random_state=42)\n",
    "\n",
    "n_iter = 0\n",
    "for train_idx, test_idx in skf.split(train[col], train.survived):\n",
    "    n_iter += 1; print(n_iter)\n",
    "    #print('학습\\n',train['survived'].iloc[train_idx].value_counts())\n",
    "    #print('검증\\n',train['survived'].iloc[test_idx].value_counts())"
   ]
  },
  {
   "cell_type": "markdown",
   "metadata": {},
   "source": [
    "## 오버 샘플링"
   ]
  },
  {
   "cell_type": "code",
   "execution_count": null,
   "metadata": {},
   "outputs": [],
   "source": [
    "from imblearn.over_sampling import SMOTE\n",
    "\n",
    "smote = SMOTE(random_state=0)\n",
    "X_train_over, y_train_over = smote.fit_sample(X_train, y_train)\n",
    "X_train.shape[0], X_train_over.shape[0], pd.Series(y_train_over).value_counts()"
   ]
  },
  {
   "cell_type": "code",
   "execution_count": null,
   "metadata": {},
   "outputs": [],
   "source": [
    "#from imblearn.under_sampling import RandomUnderSampler\n",
    "#X_resampled, y_resampled = RandomUnderSampler(random_state=0).fit_resample(X, y)"
   ]
  },
  {
   "cell_type": "markdown",
   "metadata": {},
   "source": [
    "## 분류 "
   ]
  },
  {
   "cell_type": "code",
   "execution_count": null,
   "metadata": {},
   "outputs": [],
   "source": [
    "from sklearn.tree import DecisionTreeClassifier\n",
    "from sklearn.ensemble import RandomForestClassifier, GradientBoostingClassifier, AdaBoostClassifier\n",
    "from sklearn.neighbors import KNeighborsClassifier\n",
    "from xgboost import XGBClassifier # 사이킷런 래퍼\n",
    "from lightgbm import LGBMClassifier # 사이킷런 래퍼\n",
    "from sklearn.linear_model import LogisticRegression # 분류, 희소 영역 분류, 텍스트 분류 \n",
    "from sklearn.svm import SVC\n",
    "from sklearn.naive_bayes import GaussianNB"
   ]
  },
  {
   "cell_type": "code",
   "execution_count": null,
   "metadata": {},
   "outputs": [],
   "source": [
    "dt_clf = DecisionTreeClassifier(criterion='gini', # 'entropy'\n",
    "    splitter='best', # 'random'\n",
    "    max_depth=5,min_samples_split=2,min_samples_leaf=1,\n",
    "    min_weight_fraction_leaf=0.0,\n",
    "    max_features=None, # 'auto' 'sqrt' 'log2'\n",
    "    random_state=11,max_leaf_nodes=None)\n",
    "dt_clf.fit(X_train , y_train)\n",
    "dt_pred = dt_clf.predict(X_test)\n",
    "#dt_clf.get_params()\n",
    "rf_clf = RandomForestClassifier(random_state=11) \n",
    "gb_clf = GradientBoostingClassifier(random_state=0) \n",
    "ada_clf = AdaBoostClassifier(n_estimators=100)\n",
    "knn_clf = KNeighborsClassifier(n_neighbors=8)\n",
    "gnb = GaussianNB()\n",
    "#------------------------------------------------------------#\n",
    "evals = [(X_test, y_test)]\n",
    "\n",
    "xgb_clf = XGBClassifier(n_estimators=400, learning_rate=0.1, max_depth=3, random_state=156\n",
    ", min_child_weight=1, colsample_bytree=0.75, reg_alpha=0.03,  n_jobs=-1)\n",
    "xgb_clf.fit(X_train , y_train,  early_stopping_rounds=400, eval_set=evals, eval_metric=\"logloss\",  verbose=False)\n",
    "xgb_pred = xgb_clf.predict(X_test)\n",
    "\n",
    "lgbm_clf = LGBMClassifier(n_estimators=400, num_leaves=32, sumbsample=0.8, min_child_samples=100,\n",
    "max_depth=128,  n_jobs=-1, boost_from_average=False)\n",
    "lgbm_clf.fit(X_train, y_train, early_stopping_rounds=100, eval_metric=\"logloss\", \n",
    "eval_set=evals, verbose=False)"
   ]
  },
  {
   "cell_type": "markdown",
   "metadata": {},
   "source": [
    "## 회귀"
   ]
  },
  {
   "cell_type": "code",
   "execution_count": null,
   "metadata": {},
   "outputs": [],
   "source": [
    "from sklearn.linear_model import LinearRegression, LogisticRegression\n",
    "from sklearn.ensemble import RandomForestRegressor, GradientBoostingRegressor\n",
    "from sklearn.tree import DecisionTreeRegressor\n",
    "from xgboost import XGBRegressor\n",
    "from lightgbm import LGBMRegressor"
   ]
  },
  {
   "cell_type": "code",
   "execution_count": null,
   "metadata": {},
   "outputs": [],
   "source": [
    "li_reg = LinearRegression(\n",
    "    fit_intercept=True, # 절편값 계산, False: 절편 사용되지 않고 0 \n",
    "    normalize=False, # fit_intercept=True 일때만 사용, 회귀 수행 전 정규화 수행\n",
    "    copy_X=True,\n",
    "    n_jobs=None,\n",
    ")\n",
    "li_reg.fit(X_train ,y_train) # .intercept_ np.round(li_reg.coef_, 1)\n",
    "\n",
    "lo_reg = LogisticRegression()\n",
    "lo_reg.fit(X_train ,y_train.astype('int'))\n",
    "\n",
    "rf_reg = RandomForestRegressor(random_state=0, n_estimators=1000)\n",
    "gb_reg = GradientBoostingRegressor(random_state=0, n_estimators=1000)\n",
    "dt_reg = DecisionTreeRegressor(random_state=0, max_depth=4)\n",
    "rf_reg = RandomForestRegressor(random_state=0, n_estimators=1000)\n",
    "xgb_reg = XGBRegressor(n_estimators=1000)\n",
    "lgb_reg = LGBMRegressor(n_estimators=1000)"
   ]
  },
  {
   "cell_type": "code",
   "execution_count": null,
   "metadata": {},
   "outputs": [],
   "source": []
  },
  {
   "cell_type": "markdown",
   "metadata": {},
   "source": [
    "## 튜닝"
   ]
  },
  {
   "cell_type": "code",
   "execution_count": null,
   "metadata": {},
   "outputs": [],
   "source": [
    "from sklearn.model_selection import GridSearchCV\n",
    "\n",
    "parameters = {'max_depth':[1, 2], 'min_samples_split':[2,3]}\n",
    "grid_dtree = GridSearchCV(dt_clf, param_grid=parameters, cv=3, refit=True, return_train_score=True)\n",
    "grid_dtree.fit(X_train, y_train)\n",
    "scores_df = pd.DataFrame(grid_dtree.cv_results_) # best_params_ # best_score_ \n",
    "scores_df[['params', 'mean_test_score', 'rank_test_score', \n",
    "           'split0_test_score', 'split1_test_score', 'split2_test_score']]\n",
    "pred = grid_dtree.best_estimator_.predict(X_test)\n",
    "#accuracy_score(pred, y_test)"
   ]
  },
  {
   "cell_type": "code",
   "execution_count": null,
   "metadata": {},
   "outputs": [],
   "source": [
    "from bayes_opt import BayesianOptimization\n",
    "\n",
    "bayes_params = {\n",
    "    'num_leaves': (24, 45),\n",
    "    'colsample_bytree':(0.5, 1), \n",
    "    'subsample': (0.5, 1),\n",
    "    'max_depth': (4, 12),\n",
    "    'reg_alpha': (0, 0.5),\n",
    "    'reg_lambda': (0, 0.5), \n",
    "    'min_split_gain': (0.001, 0.1),\n",
    "    'min_child_weight':(5, 50)\n",
    "}\n",
    "\n",
    "def lgb_roc_eval(num_leaves, colsample_bytree, subsample, max_depth, reg_alpha, reg_lambda, min_split_gain, min_child_weight):\n",
    "    \n",
    "    params = {\n",
    "        \"n_estimator\":200,\n",
    "        \"learning_rate\":0.02,\n",
    "        'num_leaves': int(round(num_leaves)),\n",
    "        'colsample_bytree': colsample_bytree, \n",
    "        'subsample': subsample,\n",
    "        'max_depth': int(round(max_depth)),\n",
    "        'reg_alpha': reg_alpha,\n",
    "        'reg_lambda': reg_lambda, \n",
    "        'min_split_gain': min_split_gain,\n",
    "        'min_child_weight': min_child_weight,\n",
    "        'verbosity': -1\n",
    "    }\n",
    "    print(\"params:\", params)\n",
    "    lgb_model = LGBMClassifier(**params)\n",
    "    lgb_model.fit(X_train, y_train, eval_set=[(X_test, y_test)], early_stopping_rounds=30, eval_metric=\"auc\", verbose=100 )\n",
    "    best_iter = lgb_model.best_iteration_\n",
    "    print('best_iter:', best_iter)\n",
    "    valid_proba = lgb_model.predict_proba(X_test, num_iteration=best_iter)[:, 1]\n",
    "    roc_preds = roc_auc_score(y_test, valid_proba)\n",
    "    print('roc_auc:', roc_preds)\n",
    "    return roc_preds\n",
    "    \n",
    "BO_lgb = BayesianOptimization(lgb_roc_eval, bayes_params, random_state=0, verbose=1)\n",
    "\"\"\"\n",
    "BO_lgb.maximize(init_points=5, n_iter=10)   \n",
    "max_params = BO_lgb.max['params']\n",
    "max_params['num_leaves'] = int(round(max_params['num_leaves']))\n",
    "max_params['max_depth'] = int(round(max_params['max_depth'])) \n",
    "\"\"\"\n",
    "print(\"max param 으로 재학습\")"
   ]
  },
  {
   "cell_type": "markdown",
   "metadata": {},
   "source": [
    "## 앙상블 "
   ]
  },
  {
   "cell_type": "code",
   "execution_count": null,
   "metadata": {},
   "outputs": [],
   "source": [
    "from sklearn.ensemble import VotingClassifier\n",
    "\n",
    "vo_clf = VotingClassifier( estimators=[('dt',dt_clf),('KNN',knn_clf)] , voting='soft' )\n",
    "vo_clf.fit(X_train , y_train)\n",
    "pred = vo_clf.predict(X_test)"
   ]
  },
  {
   "cell_type": "markdown",
   "metadata": {},
   "source": [
    "# 4. 예측 및 평가 \n",
    "\n",
    "## 분류 \n",
    "* 오차행렬\n",
    "\n",
    "# 사진\n",
    "\n",
    "\n",
    "\n",
    "* 정밀도(Precision): Positive 예측 중 예측과 실제 Positive 일치 비율(양성 예측도)\n",
    "    * 실제 Negative를 Positive로 잘못 판단하면 큰 영향이 미치는 경우(ex: 스팸메일)\n",
    "    * FN: 실제 Positive 예측 Negative 를 낮추는데 초점\n",
    "* 재현율(Recall): Positive 예측 중 실제 Positive 비율(민감도/TPR)\n",
    "    * 실제 Positive를 Negative로 잘못 판단하면 큰 영향이 미치는 경우(ex: 암 판단)\n",
    "    * FP: 실제 Positive 예측 Positive 를 낮추는데 초점\n",
    "* F1 스코어: 정밀도/재현율 치우치지 않을수록 높게 나타남\n",
    "* ROC AUC\n",
    "\n",
    "* predict_proba(): 개별 데이터별로 예측 확률을 반환\n",
    "    * 학습이 완료된 사이킷런 Classfier 객체에서 호출 가능"
   ]
  },
  {
   "cell_type": "code",
   "execution_count": 50,
   "metadata": {},
   "outputs": [],
   "source": [
    "from sklearn.metrics import accuracy_score, confusion_matrix, precision_score, recall_score, precision_recall_curve, f1_score, roc_curve, roc_auc_score"
   ]
  },
  {
   "cell_type": "code",
   "execution_count": 51,
   "metadata": {},
   "outputs": [
    {
     "name": "stdout",
     "output_type": "stream",
     "text": [
      "[[227  16]\n",
      " [ 61  89]]\n",
      "정확도: 0.8041, 정밀도: 0.8476, 재현율: 0.5933,    F1: 0.6980, AUC:0.8547\n",
      "[[225  18]\n",
      " [ 53  97]]\n",
      "정확도: 0.8193, 정밀도: 0.8435, 재현율: 0.6467,    F1: 0.7321, AUC:0.8799\n",
      "[[224  19]\n",
      " [ 50 100]]\n",
      "정확도: 0.8244, 정밀도: 0.8403, 재현율: 0.6667,    F1: 0.7435, AUC:0.8764\n"
     ]
    }
   ],
   "source": [
    "def get_clf_eval(y_test, pred=None, pred_proba=None):\n",
    "    confusion = confusion_matrix(y_test, pred)\n",
    "    accuracy = accuracy_score(y_test , pred)\n",
    "    precision = precision_score(y_test , pred)\n",
    "    recall = recall_score(y_test , pred)\n",
    "    f1 = f1_score(y_test,pred)\n",
    "    # pred_proba: positive 확률 \n",
    "    roc_auc = roc_auc_score(y_test, pred_proba, average='macro') # 'macro', 'weighted','samples' \n",
    "    print(confusion)\n",
    "    print('정확도: {0:.4f}, 정밀도: {1:.4f}, 재현율: {2:.4f},\\\n",
    "    F1: {3:.4f}, AUC:{4:.4f}'.format(accuracy, precision, recall, f1, roc_auc))\n",
    "\n",
    "pred = dt_clf.predict(X_test)\n",
    "pred_proba = dt_clf.predict_proba(X_test) \n",
    "get_clf_eval(y_test, pred, pred_proba[:,1].reshape(-1,1))\n",
    "\n",
    "w_preds = xgb_clf.predict(X_test)\n",
    "w_pred_proba = xgb_clf.predict_proba(X_test)[:, 1]\n",
    "get_clf_eval(y_test , w_preds, w_pred_proba)\n",
    "\n",
    "l_preds = lgbm_clf.predict(X_test)\n",
    "l_pred_proba = lgbm_clf.predict_proba(X_test)[:, 1]\n",
    "get_clf_eval(y_test , l_preds, l_pred_proba)"
   ]
  },
  {
   "cell_type": "code",
   "execution_count": 52,
   "metadata": {},
   "outputs": [
    {
     "data": {
      "image/png": "[encoded data removed]",
      "text/plain": [
       "<Figure size 288x216 with 1 Axes>"
      ]
     },
     "metadata": {
      "needs_background": "light"
     },
     "output_type": "display_data"
    }
   ],
   "source": [
    "def precision_recall_curve_plot(y_test, pred_proba_c1):\n",
    "    precisions, recalls, thresholds = precision_recall_curve(y_test, pred_proba_c1)\n",
    "    \n",
    "    plt.figure(figsize=(4,3))\n",
    "    threshold_boundary = thresholds.shape[0]\n",
    "    plt.plot(thresholds, precisions[0:threshold_boundary], linestyle='--', label='precision')\n",
    "    plt.plot(thresholds, recalls[0:threshold_boundary],  label='recall')\n",
    "    \n",
    "    start, end = plt.xlim()\n",
    "    plt.xticks(np.round(np.arange(start, end, 0.1), 2))\n",
    "    \n",
    "    plt.xlabel('Threshold value');\n",
    "    plt.ylabel('Precision and Recall value');\n",
    "    plt.legend();\n",
    "    plt.grid();\n",
    "    plt.show();\n",
    "    \n",
    "precision_recall_curve_plot(y_test, dt_clf.predict_proba(X_test)[:,1].reshape(-1,1))    "
   ]
  },
  {
   "cell_type": "code",
   "execution_count": null,
   "metadata": {},
   "outputs": [],
   "source": [
    "def roc_curve_plot(y_test , pred_proba_c1):\n",
    "    # 임곗값에 따른 FPR, TPR 값을 반환 받음. \n",
    "    fprs , tprs , thresholds = roc_curve(y_test ,pred_proba_c1)\n",
    "\n",
    "    # ROC Curve를 plot 곡선으로 그림. \n",
    "    plt.plot(fprs , tprs, label='ROC')\n",
    "    # 가운데 대각선 직선을 그림. \n",
    "    plt.plot([0, 1], [0, 1], 'k--', label='Random')\n",
    "    \n",
    "    # FPR X 축의 Scale을 0.1 단위로 변경, X,Y 축명 설정등   \n",
    "    start, end = plt.xlim()\n",
    "    plt.xticks(np.round(np.arange(start, end, 0.1),2))\n",
    "    plt.xlim(0,1); plt.ylim(0,1)\n",
    "    plt.xlabel('FPR( 1 - Sensitivity )'); plt.ylabel('TPR( Recall )')\n",
    "    plt.legend()\n",
    "    plt.show()\n",
    "    \n",
    "roc_curve_plot(y_test, dt_clf.predict_proba(X_test)[:, 1] )"
   ]
  },
  {
   "cell_type": "markdown",
   "metadata": {},
   "source": [
    "## 회귀 "
   ]
  },
  {
   "cell_type": "code",
   "execution_count": 54,
   "metadata": {},
   "outputs": [],
   "source": [
    "from sklearn.metrics import mean_absolute_error, mean_squared_error , r2_score"
   ]
  },
  {
   "cell_type": "code",
   "execution_count": 55,
   "metadata": {},
   "outputs": [
    {
     "name": "stdout",
     "output_type": "stream",
     "text": [
      "RMSLE: 0.307, RMSE: 0.443, MAE: 0.196, MSE: 0.196\n"
     ]
    }
   ],
   "source": [
    "# log 값 변환 시 언더플로우 영향으로 log() 가 아닌 log1p() 를 이용하여 RMSLE 계산\n",
    "def rmsle(y, pred):\n",
    "    log_y = np.log1p(y)\n",
    "    log_pred = np.log1p(pred)\n",
    "    squared_error = (log_y - log_pred) ** 2\n",
    "    rmsle = np.sqrt(np.mean(squared_error))\n",
    "    return rmsle\n",
    "\n",
    "# 사이킷런의 mean_square_error() 를 이용하여 RMSE 계산\n",
    "def rmse(y,pred):\n",
    "    return np.sqrt(mean_squared_error(y,pred))\n",
    "\n",
    "def mse(y,pred):\n",
    "    return mean_squared_error(y,pred)\n",
    "\n",
    "# 책에서는 mean_absolute_error()를 MSE로 잘못 기재함. \n",
    "# MAE, RMSE, RMSLE 를 모두 계산 \n",
    "def evaluate_regr(y,pred):\n",
    "    rmsle_val = rmsle(y,pred)\n",
    "    rmse_val = rmse(y,pred)\n",
    "    mse_val = mse(y,pred)\n",
    "    # MAE 는 scikit learn의 mean_absolute_error() 로 계산\n",
    "    mae_val = mean_absolute_error(y,pred)\n",
    "    print('RMSLE: {0:.3f}, RMSE: {1:.3F}, MAE: {2:.3F}, MSE: {3:.3F}'.format(rmsle_val, rmse_val, mae_val, mse_val))\n",
    "    \n",
    "evaluate_regr(y_test, pred)"
   ]
  },
  {
   "cell_type": "code",
   "execution_count": null,
   "metadata": {},
   "outputs": [],
   "source": []
  },
  {
   "cell_type": "markdown",
   "metadata": {},
   "source": [
    "## feature_importances\n",
    "- negative 영향 feature 알 수 없음(불필요 변수 제거 도움 적음)"
   ]
  },
  {
   "cell_type": "code",
   "execution_count": 56,
   "metadata": {},
   "outputs": [
    {
     "name": "stdout",
     "output_type": "stream",
     "text": [
      "pclass_3 : 0.206\n",
      "cluster : 0.000\n",
      "cabin_D : 0.000\n"
     ]
    },
    {
     "data": {
      "image/png": "[encoded data removed]",
      "text/plain": [
       "<Figure size 288x216 with 1 Axes>"
      ]
     },
     "metadata": {
      "needs_background": "light"
     },
     "output_type": "display_data"
    },
    {
     "data": {
      "text/plain": [
       "<AxesSubplot:title={'center':'Feature importance'}, xlabel='Feature importance', ylabel='Features'>"
      ]
     },
     "execution_count": 56,
     "metadata": {},
     "output_type": "execute_result"
    },
    {
     "data": {
      "image/png": "[encoded data removed]",
      "text/plain": [
       "<Figure size 360x144 with 1 Axes>"
      ]
     },
     "metadata": {
      "needs_background": "light"
     },
     "output_type": "display_data"
    },
    {
     "data": {
      "image/png": "[encoded data removed]",
      "text/plain": [
       "<Figure size 360x144 with 1 Axes>"
      ]
     },
     "metadata": {
      "needs_background": "light"
     },
     "output_type": "display_data"
    }
   ],
   "source": [
    "def vis_feature_importances_(est):\n",
    "    ftr_importances_values = est.feature_importances_\n",
    "    ftr_importances = pd.Series(ftr_importances_values,index=X_train.columns  )\n",
    "    ftr_top3 = ftr_importances.sort_values(ascending=False)[:3]\n",
    "    plt.figure(figsize=(4,3))\n",
    "    plt.title('Feature importances Top 3')\n",
    "    sns.barplot(x=ftr_top3 , y = ftr_top3.index)\n",
    "    plt.show()\n",
    "\n",
    "# feature별 importance 매핑\n",
    "for name, value in zip(col , dt_clf.feature_importances_[:3]):\n",
    "    print('{0} : {1:.3f}'.format(name, value))\n",
    "\n",
    "vis_feature_importances_(dt_clf)    \n",
    "\n",
    "from xgboost import plot_importance\n",
    "\n",
    "fig, ax = plt.subplots(figsize=(5, 2))\n",
    "# 사이킷런 래퍼 클래스를 입력해도 무방. \n",
    "plot_importance(xgb_clf, ax=ax)\n",
    "\n",
    "from lightgbm import plot_importance\n",
    "\n",
    "fig, ax = plt.subplots(figsize=(5, 2))\n",
    "# 사이킷런 래퍼 클래스를 입력해도 무방. \n",
    "plot_importance(lgbm_clf, ax=ax)"
   ]
  },
  {
   "cell_type": "code",
   "execution_count": null,
   "metadata": {},
   "outputs": [],
   "source": [
    "import eli5 # 학습 후 특정 변수 셔플 시, 성능으로 판단 \n",
    "# 셔플 후, 성능 떨어지면 중요, 그대로거나 좋아지면 중요 X\n",
    "from eli5.sklearn import PermutationImportance \n",
    "perm = PermutationImportance(dt_clf, scoring = \"f1\", random_state = 42).fit(X_train, y_train) \n",
    "eli5.show_weights(perm, top = 80, feature_names = col)\n",
    "# eli5.explain_weights_df(perm, feature_names=col)"
   ]
  },
  {
   "cell_type": "code",
   "execution_count": null,
   "metadata": {},
   "outputs": [],
   "source": [
    "df = pd.DataFrame(perm.results_, columns=col)\n",
    "sns.boxplot(data=df).set(title='Perm', ylabel='Impor')           "
   ]
  },
  {
   "cell_type": "markdown",
   "metadata": {},
   "source": [
    "# 5. 제출하기"
   ]
  },
  {
   "cell_type": "code",
   "execution_count": 59,
   "metadata": {},
   "outputs": [],
   "source": [
    "#submission.to_csv('submission.csv', index=False)"
   ]
  },
  {
   "cell_type": "markdown",
   "metadata": {},
   "source": [
    "## 파이썬 래퍼"
   ]
  },
  {
   "cell_type": "code",
   "execution_count": null,
   "metadata": {},
   "outputs": [],
   "source": [
    "import xgboost as xgb\n",
    "\n",
    "dtrain = xgb.DMatrix(data=X_train , label=y_train)\n",
    "dtest = xgb.DMatrix(data=X_test , label=y_test)\n",
    "\n",
    "params = { 'max_depth':3,\n",
    "           'eta': 0.1,\n",
    "           'objective':'binary:logistic',\n",
    "           'eval_metric':'logloss',\n",
    "           'early_stoppings':100\n",
    "        }\n",
    "num_rounds = 400\n",
    "\n",
    "wlist = [(dtrain,'train'),(dtest,'eval') ]\n",
    "xgb_model = xgb.train(params = params , dtrain=dtrain , num_boost_round=num_rounds , evals=wlist , verbose_eval=False)\n",
    "\n",
    "pred_probs = xgb_model.predict(dtest)\n",
    "print(np.round(pred_probs[:10],3))\n",
    "preds = [ 1 if x > 0.5 else 0 for x in pred_probs ]\n",
    "get_clf_eval(y_test , preds, pred_probs)"
   ]
  },
  {
   "cell_type": "markdown",
   "metadata": {},
   "source": [
    "# 규제 "
   ]
  },
  {
   "cell_type": "code",
   "execution_count": 61,
   "metadata": {},
   "outputs": [],
   "source": [
    "from sklearn.linear_model import Ridge, RidgeCV, Lasso, LassoCV, ElasticNet, ElasticNetCV"
   ]
  },
  {
   "cell_type": "code",
   "execution_count": 62,
   "metadata": {},
   "outputs": [],
   "source": [
    "# 릿지\n",
    "ridge = Ridge(alpha = 10)\n",
    "neg_mse_scores = cross_val_score(ridge, X_train, y_train, scoring=\"neg_mean_squared_error\", cv = 5)\n",
    "rmse_scores  = np.sqrt(-1 * neg_mse_scores)\n",
    "avg_rmse = np.mean(rmse_scores)\n",
    "\n",
    "ridge = RidgeCV().fit(X_train, y_train)\n",
    "importance = np.abs(ridge.coef_)"
   ]
  },
  {
   "cell_type": "code",
   "execution_count": 63,
   "metadata": {},
   "outputs": [],
   "source": [
    "# 라쏘 \n",
    "lasso = Lasso(alpha = 10)\n",
    "lasso.fit(X_train, y_train)\n",
    "pred = lasso.predict(X_test)\n",
    "\n",
    "lasso = LassoCV().fit(X_train, y_train)\n",
    "importance = np.abs(lasso.coef_)"
   ]
  },
  {
   "cell_type": "code",
   "execution_count": 64,
   "metadata": {},
   "outputs": [
    {
     "data": {
      "text/plain": [
       "<AxesSubplot:>"
      ]
     },
     "execution_count": 64,
     "metadata": {},
     "output_type": "execute_result"
    },
    {
     "data": {
      "image/png": "[encoded data removed]",
      "text/plain": [
       "<Figure size 432x288 with 1 Axes>"
      ]
     },
     "metadata": {
      "needs_background": "light"
     },
     "output_type": "display_data"
    }
   ],
   "source": [
    "# 엘라스틱넷\n",
    "elasticNet = ElasticNet(alpha = 10, l1_ratio=0.7)\n",
    "elasticNet = ElasticNetCV().fit(X_train, y_train)\n",
    "\n",
    "high = pd.Series(elasticNet.coef_, index=col).sort_values(ascending=False).head(10)\n",
    "low = pd.Series(elasticNet.coef_, index=col).sort_values(ascending=False).tail(10)\n",
    "con = pd.concat([high, low])\n",
    "\n",
    "sns.barplot(x=con.values, y=con.index)"
   ]
  },
  {
   "cell_type": "markdown",
   "metadata": {},
   "source": [
    "# AUTOML"
   ]
  },
  {
   "cell_type": "code",
   "execution_count": null,
   "metadata": {},
   "outputs": [],
   "source": [
    "!pip install pycaret\n",
    "\n",
    "from pycaret.classification import *\n",
    "\n",
    "set_config('seed', 42)\n",
    "clf = setup(session_id=42, data = train, target = 'voted'\n",
    ", categorical_features=col_cat, numeric_features = [], ignore_features =[])\n",
    "\n",
    "best_3 = compare_models(sort = 'AUC', n_select = 3)\n",
    "\n",
    "blended = blend_models(estimator_list = best_3, fold = 5, method = 'soft')\n",
    "\n",
    "pred_holdout = predict_model(blended)\n",
    "\n",
    "final_model = finalize_model(blended)\n",
    "\n",
    "predictions = predict_model(final_model, data = test)\n",
    "\n",
    "submission['voted'] = predictions['Score']"
   ]
  },
  {
   "cell_type": "markdown",
   "metadata": {},
   "source": [
    "# 정규식"
   ]
  },
  {
   "cell_type": "code",
   "execution_count": 1,
   "metadata": {},
   "outputs": [],
   "source": [
    "import re"
   ]
  },
  {
   "cell_type": "code",
   "execution_count": 2,
   "metadata": {},
   "outputs": [],
   "source": [
    "p = re.compile(\"[a-z]+\") # [모든소문자] + 1번 이상 발생"
   ]
  },
  {
   "cell_type": "code",
   "execution_count": 3,
   "metadata": {},
   "outputs": [
    {
     "name": "stdout",
     "output_type": "stream",
     "text": [
      "<re.Match object; span=(0, 1), match='a'>\n",
      "<re.Match object; span=(0, 1), match='a'>\n",
      "<re.Match object; span=(0, 1), match='a'>\n",
      "None\n"
     ]
    }
   ],
   "source": [
    "print(p.match(\"a \"))\n",
    "print(p.match(\"a!\"))\n",
    "print(p.match(\"a23\")) # 알파벳으로 시작만 하면(\"처음 위치!\") 뒤에 뭐가 붙던 관계 없음 \n",
    "print(p.match(\"1a\"))"
   ]
  },
  {
   "cell_type": "code",
   "execution_count": 4,
   "metadata": {},
   "outputs": [
    {
     "name": "stdout",
     "output_type": "stream",
     "text": [
      "<re.Match object; span=(0, 1), match='a'>\n",
      "<re.Match object; span=(0, 1), match='a'>\n",
      "<re.Match object; span=(0, 1), match='a'>\n",
      "None\n"
     ]
    }
   ],
   "source": [
    "print(p.search(\"a \"))\n",
    "print(p.search(\"a!\"))\n",
    "print(p.search(\"a23\")) # 뭐가 앞 뒤로 붙어 있건 포함만 되면 됨 \n",
    "print(p.search(\"123\"))"
   ]
  },
  {
   "cell_type": "code",
   "execution_count": 5,
   "metadata": {},
   "outputs": [
    {
     "name": "stdout",
     "output_type": "stream",
     "text": [
      "['a', 'b']\n",
      "['a', 'bb', 'b']\n",
      "['a', 'b']\n",
      "[]\n"
     ]
    }
   ],
   "source": [
    "print(p.findall(\"a b\"))\n",
    "print(p.findall(\"a!bb b\"))\n",
    "print(p.findall(\"a23b12 \")) # 해당하는 연결을 리스트로 반환, 공백으로 구별이 되면 구분함 \n",
    "print(p.findall(\"123\"))"
   ]
  },
  {
   "cell_type": "code",
   "execution_count": 6,
   "metadata": {},
   "outputs": [
    {
     "name": "stdout",
     "output_type": "stream",
     "text": [
      "<callable_iterator object at 0x000001BC134BD648>\n",
      "<callable_iterator object at 0x000001BC134BB5C8>\n",
      "<callable_iterator object at 0x000001BC134BB608>\n",
      "<callable_iterator object at 0x000001BC134BB208>\n"
     ]
    }
   ],
   "source": [
    "print(p.finditer(\"a b\"))\n",
    "print(p.finditer(\"a!bb b\"))\n",
    "print(p.finditer(\"a23b12 \")) # 해당하는 연결을 리스트로 반환, 공백으로 구별이 되면 구분함 \n",
    "print(p.finditer(\"123\"))"
   ]
  },
  {
   "cell_type": "markdown",
   "metadata": {},
   "source": [
    "### 매치 객체 함수"
   ]
  },
  {
   "cell_type": "code",
   "execution_count": 7,
   "metadata": {},
   "outputs": [],
   "source": [
    "m = p.search(\"456 python 123\")"
   ]
  },
  {
   "cell_type": "code",
   "execution_count": 8,
   "metadata": {},
   "outputs": [
    {
     "name": "stdout",
     "output_type": "stream",
     "text": [
      "python\n",
      "4\n",
      "10\n",
      "(4, 10)\n"
     ]
    }
   ],
   "source": [
    "print(m.group())\n",
    "print(m.start())\n",
    "print(m.end())\n",
    "print(m.span())"
   ]
  },
  {
   "cell_type": "markdown",
   "metadata": {},
   "source": [
    "### 그룹핑 (그룹핑할 패턴 묶기)"
   ]
  },
  {
   "cell_type": "code",
   "execution_count": 9,
   "metadata": {},
   "outputs": [
    {
     "data": {
      "text/plain": [
       "<re.Match object; span=(0, 17), match='park 010-123-4567'>"
      ]
     },
     "execution_count": 9,
     "metadata": {},
     "output_type": "execute_result"
    }
   ],
   "source": [
    "p = re.compile(\"\\w+\\s+\\d+[-]\\d+[-]\\d+\")\n",
    "m = p.search(\"park 010-123-4567\")\n",
    "m"
   ]
  },
  {
   "cell_type": "code",
   "execution_count": 10,
   "metadata": {},
   "outputs": [
    {
     "data": {
      "text/plain": [
       "<re.Match object; span=(0, 17), match='park 010-123-4567'>"
      ]
     },
     "execution_count": 10,
     "metadata": {},
     "output_type": "execute_result"
    }
   ],
   "source": [
    "p = re.compile(r\"\\w+\\s+\\d+[-]\\d+[-]\\d+\")\n",
    "m = p.search(\"park 010-123-4567\")\n",
    "m"
   ]
  },
  {
   "cell_type": "code",
   "execution_count": 11,
   "metadata": {},
   "outputs": [
    {
     "name": "stdout",
     "output_type": "stream",
     "text": [
      "park 010-123-4567\n",
      "park\n",
      "010-123-4567\n",
      "010\n"
     ]
    }
   ],
   "source": [
    "p = re.compile(r\"(\\w+)\\s+((\\d+)[-]\\d+[-]\\d+)\")\n",
    "m = p.search(\"park 010-123-4567\")\n",
    "\n",
    "print(m.group(0))\n",
    "print(m.group(1))\n",
    "print(m.group(2))\n",
    "print(m.group(3)) # 중첩 시, 바깥부터 안으로 \n",
    "# print(m.group(4))"
   ]
  },
  {
   "cell_type": "markdown",
   "metadata": {},
   "source": [
    "### 전/후방탐색"
   ]
  },
  {
   "cell_type": "code",
   "execution_count": 12,
   "metadata": {},
   "outputs": [
    {
     "name": "stdout",
     "output_type": "stream",
     "text": [
      "<re.Match object; span=(0, 5), match='http:'>\n",
      "http:\n"
     ]
    }
   ],
   "source": [
    "p = re.compile(\".+:\")\n",
    "m = p.search(\"http://google.com\")\n",
    "print(m)\n",
    "print(m.group())"
   ]
  },
  {
   "cell_type": "code",
   "execution_count": 13,
   "metadata": {},
   "outputs": [
    {
     "name": "stdout",
     "output_type": "stream",
     "text": [
      "<re.Match object; span=(0, 4), match='http'>\n",
      "http\n"
     ]
    }
   ],
   "source": [
    "p = re.compile(\".+(?=:)\")\n",
    "m = p.search(\"http://google.com\")\n",
    "print(m)\n",
    "print(m.group())"
   ]
  },
  {
   "cell_type": "code",
   "execution_count": 14,
   "metadata": {},
   "outputs": [
    {
     "name": "stdout",
     "output_type": "stream",
     "text": [
      "<re.Match object; span=(0, 8), match='abc.xslx'>\n",
      "None\n",
      "None\n"
     ]
    }
   ],
   "source": [
    "p = re.compile(\".*[.](?!bat|exe).*$\") # 확장자 bat exe 제외 \n",
    "print(p.search(\"abc.xslx\"))\n",
    "print(p.search(\"def.bat\"))\n",
    "print(p.search(\"gh0.exe\"))"
   ]
  },
  {
   "cell_type": "code",
   "execution_count": 15,
   "metadata": {},
   "outputs": [
    {
     "name": "stdout",
     "output_type": "stream",
     "text": [
      "None\n",
      "None\n",
      "None\n"
     ]
    }
   ],
   "source": [
    "p = re.compile(\".*[.](?!bat|exe)$\") # 소비 안해서 마지막에 .*$ 필요 \n",
    "print(p.search(\"abc.xslx\"))\n",
    "print(p.search(\"def.bat\"))\n",
    "print(p.search(\"gh0.exe\"))"
   ]
  },
  {
   "cell_type": "markdown",
   "metadata": {},
   "source": [
    "### 문자열 바꾸기"
   ]
  },
  {
   "cell_type": "code",
   "execution_count": 16,
   "metadata": {},
   "outputs": [
    {
     "name": "stdout",
     "output_type": "stream",
     "text": [
      "colour socks and colour shoes\n",
      "colour socks and red shoes\n"
     ]
    }
   ],
   "source": [
    "p = re.compile('(blue|white|red)')\n",
    "print(p.sub('colour', 'blue socks and red shoes'))\n",
    "print(p.sub('colour', 'blue socks and red shoes', count=1))"
   ]
  },
  {
   "cell_type": "markdown",
   "metadata": {},
   "source": [
    "### greedy non-greedy"
   ]
  },
  {
   "cell_type": "code",
   "execution_count": 17,
   "metadata": {},
   "outputs": [
    {
     "name": "stdout",
     "output_type": "stream",
     "text": [
      "<re.Match object; span=(0, 41), match='<html><head><title></title></head></html>'>\n"
     ]
    }
   ],
   "source": [
    "s = '<html><head><title></title></head></html>'\n",
    "print(re.match('<.*>', s)) # greedy"
   ]
  },
  {
   "cell_type": "code",
   "execution_count": 18,
   "metadata": {},
   "outputs": [
    {
     "name": "stdout",
     "output_type": "stream",
     "text": [
      "<re.Match object; span=(0, 6), match='<html>'>\n"
     ]
    }
   ],
   "source": [
    "s = '<html><head><title></title></head></html>'\n",
    "print(re.match('<.*?>', s)) # non-greedy"
   ]
  },
  {
   "cell_type": "markdown",
   "metadata": {},
   "source": [
    "# 종합문제"
   ]
  },
  {
   "cell_type": "code",
   "execution_count": 19,
   "metadata": {},
   "outputs": [
    {
     "data": {
      "text/plain": [
       "'a#b#c#d'"
      ]
     },
     "execution_count": 19,
     "metadata": {},
     "output_type": "execute_result"
    }
   ],
   "source": [
    "s1 = \"a:b:c:d\"\n",
    "p = re.compile(\":\")\n",
    "p.sub(\"#\", s1)"
   ]
  },
  {
   "cell_type": "code",
   "execution_count": 20,
   "metadata": {},
   "outputs": [
    {
     "data": {
      "text/plain": [
       "'park 010-9999-####'"
      ]
     },
     "execution_count": 20,
     "metadata": {},
     "output_type": "execute_result"
    }
   ],
   "source": [
    "s19 = 'park 010-9999-9988'\n",
    "p = re.compile(\"(\\d+[-]\\d+)[-]\\d+\") # 앞에 이름 부분 없어도 되네... \n",
    "m = p.search(s19)\n",
    "\n",
    "p.sub(\"\\g<1>-####\", s19)"
   ]
  },
  {
   "cell_type": "code",
   "execution_count": 21,
   "metadata": {},
   "outputs": [
    {
     "name": "stdout",
     "output_type": "stream",
     "text": [
      "<re.Match object; span=(0, 14), match='park@naver.com'>\n"
     ]
    }
   ],
   "source": [
    "s20 = 'park@naver.com'\n",
    "p = re.compile('.*[@].*[.](?=com$|net$)\\w+$')\n",
    "m = p.search(s20)\n",
    "print(m)"
   ]
  },
  {
   "cell_type": "code",
   "execution_count": 22,
   "metadata": {},
   "outputs": [
    {
     "name": "stdout",
     "output_type": "stream",
     "text": [
      "None\n"
     ]
    }
   ],
   "source": [
    "s21 = 'park@naver.co.kr'\n",
    "p = re.compile('.*[@].*[.](?=com$|net$)\\w+$')\n",
    "m = p.search(s21)\n",
    "print(m)"
   ]
  }
 ],
 "metadata": {
  "kernelspec": {
   "display_name": "Python 3",
   "language": "python",
   "name": "python3"
  },
  "language_info": {
   "codemirror_mode": {
    "name": "ipython",
    "version": 3
   },
   "file_extension": ".py",
   "mimetype": "text/x-python",
   "name": "python",
   "nbconvert_exporter": "python",
   "pygments_lexer": "ipython3",
   "version": "3.7.6"
  }
 },
 "nbformat": 4,
 "nbformat_minor": 4
}
